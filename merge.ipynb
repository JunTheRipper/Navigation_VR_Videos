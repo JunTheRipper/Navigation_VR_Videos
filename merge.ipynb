{
 "cells": [
  {
   "cell_type": "code",
   "execution_count": 13,
   "metadata": {},
   "outputs": [],
   "source": [
    "import librosa\n",
    "import numpy as np\n",
    "import soundfile as sf\n",
    "\n",
    "aud = \"B4\"\n",
    "y1, sr1 = librosa.load(\"audio_file.mp3\")\n",
    "y2, sr2 = librosa.load(aud + \".mp3\")\n",
    "\n",
    "# 确保两个音频的采样率一致，如果不一致，需要使用 librosa.resample 函数进行调整\n",
    "if sr1 != sr2:\n",
    "    y2 = librosa.resample(y2, sr2, sr1)\n",
    "\n",
    "# 智能化调整音量: 使用 librosa.util.normalize 函数进行响度标准化，自动调整音量达到一致水平：\n",
    "y1_norm = librosa.util.normalize(y1)\n",
    "y2_norm = librosa.util.normalize(y2)\n",
    "\n",
    "# 拼接音频: 使用 np.concatenate 函数将两个归一化后的音频拼接在一起\n",
    "y_combined = np.concatenate((y1_norm, y2_norm))\n",
    "sf.write('n'+ aud +'.wav', y_combined, sr1)"
   ]
  },
  {
   "cell_type": "code",
   "execution_count": 5,
   "metadata": {},
   "outputs": [
    {
     "data": {
      "text/plain": [
       "<_io.BufferedRandom name='audio_file.mp3'>"
      ]
     },
     "execution_count": 5,
     "metadata": {},
     "output_type": "execute_result"
    }
   ],
   "source": [
    "from pydub import AudioSegment\n",
    "audio_file = AudioSegment.from_file(\"attention.mp3\")\n",
    "start_time = 0  # 单位为毫秒\n",
    "end_time = 3500\n",
    "\n",
    "cropped_audio = audio_file[start_time:end_time]\n",
    "cropped_audio.export(\"audio_file.mp3\", format=\"mp3\")"
   ]
  }
 ],
 "metadata": {
  "kernelspec": {
   "display_name": "base",
   "language": "python",
   "name": "python3"
  },
  "language_info": {
   "codemirror_mode": {
    "name": "ipython",
    "version": 3
   },
   "file_extension": ".py",
   "mimetype": "text/x-python",
   "name": "python",
   "nbconvert_exporter": "python",
   "pygments_lexer": "ipython3",
   "version": "3.9.18"
  }
 },
 "nbformat": 4,
 "nbformat_minor": 2
}
